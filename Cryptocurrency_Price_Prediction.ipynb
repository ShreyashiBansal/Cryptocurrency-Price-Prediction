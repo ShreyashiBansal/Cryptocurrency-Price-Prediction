{
  "nbformat": 4,
  "nbformat_minor": 0,
  "metadata": {
    "colab": {
      "name": "Cryptocurrency Price_Prediction.ipynb",
      "provenance": [],
      "authorship_tag": "ABX9TyNaDOJRkG/bBoKpxt/CGXbP",
      "include_colab_link": true
    },
    "kernelspec": {
      "name": "python3",
      "display_name": "Python 3"
    },
    "language_info": {
      "name": "python"
    }
  },
  "cells": [
    {
      "cell_type": "markdown",
      "metadata": {
        "id": "view-in-github",
        "colab_type": "text"
      },
      "source": [
        "<a href=\"https://colab.research.google.com/github/ShreyashiBansal/Cryptocurrency-Price-Prediction/blob/main/Cryptocurrency_Price_Prediction.ipynb\" target=\"_parent\"><img src=\"https://colab.research.google.com/assets/colab-badge.svg\" alt=\"Open In Colab\"/></a>"
      ]
    },
    {
      "cell_type": "markdown",
      "metadata": {
        "id": "7eaoFakQ_Xx-"
      },
      "source": [
        "# **Etherium Price Prediction**\n"
      ]
    },
    {
      "cell_type": "markdown",
      "metadata": {
        "id": "tUNfhsWwAp-G"
      },
      "source": [
        "# *Importing Libraries*\n",
        "\n",
        "1.   Numpy \n",
        "2.   Pandas\n",
        "3.   Python Matplotlib\n",
        "4.   seaborn\n",
        "5.   scikit-learn\n",
        "\n",
        "\n",
        "\n"
      ]
    },
    {
      "cell_type": "code",
      "metadata": {
        "id": "OhpBVfl35v2g"
      },
      "source": [
        "import numpy as np \n",
        "import pandas as pd\n",
        "import matplotlib.pyplot as plt\n",
        "import seaborn as sns\n",
        "from sklearn.linear_model import LinearRegression\n",
        "from sklearn.model_selection import train_test_split"
      ],
      "execution_count": 18,
      "outputs": []
    },
    {
      "cell_type": "markdown",
      "metadata": {
        "id": "4eTqVorbBW2T"
      },
      "source": [
        "# *Loading the Dataset*"
      ]
    },
    {
      "cell_type": "code",
      "metadata": {
        "colab": {
          "base_uri": "https://localhost:8080/",
          "height": 419
        },
        "id": "AIft_s697J_O",
        "outputId": "5f20b6f0-6a5c-48b8-d558-f56892fe4dcb"
      },
      "source": [
        "df = pd.read_csv('/content/ETH_1H.csv')\n",
        "df"
      ],
      "execution_count": 19,
      "outputs": [
        {
          "output_type": "execute_result",
          "data": {
            "text/html": [
              "<div>\n",
              "<style scoped>\n",
              "    .dataframe tbody tr th:only-of-type {\n",
              "        vertical-align: middle;\n",
              "    }\n",
              "\n",
              "    .dataframe tbody tr th {\n",
              "        vertical-align: top;\n",
              "    }\n",
              "\n",
              "    .dataframe thead th {\n",
              "        text-align: right;\n",
              "    }\n",
              "</style>\n",
              "<table border=\"1\" class=\"dataframe\">\n",
              "  <thead>\n",
              "    <tr style=\"text-align: right;\">\n",
              "      <th></th>\n",
              "      <th>Unix Timestamp</th>\n",
              "      <th>Date</th>\n",
              "      <th>Symbol</th>\n",
              "      <th>Open</th>\n",
              "      <th>High</th>\n",
              "      <th>Low</th>\n",
              "      <th>Close</th>\n",
              "      <th>Volume</th>\n",
              "    </tr>\n",
              "  </thead>\n",
              "  <tbody>\n",
              "    <tr>\n",
              "      <th>0</th>\n",
              "      <td>1586995200000</td>\n",
              "      <td>2020-04-16 00:00:00</td>\n",
              "      <td>ETHUSD</td>\n",
              "      <td>152.94</td>\n",
              "      <td>152.94</td>\n",
              "      <td>150.39</td>\n",
              "      <td>150.39</td>\n",
              "      <td>650.188125</td>\n",
              "    </tr>\n",
              "    <tr>\n",
              "      <th>1</th>\n",
              "      <td>1586991600000</td>\n",
              "      <td>2020-04-15 23:00:00</td>\n",
              "      <td>ETHUSD</td>\n",
              "      <td>155.81</td>\n",
              "      <td>155.81</td>\n",
              "      <td>151.39</td>\n",
              "      <td>152.94</td>\n",
              "      <td>4277.567299</td>\n",
              "    </tr>\n",
              "    <tr>\n",
              "      <th>2</th>\n",
              "      <td>1586988000000</td>\n",
              "      <td>2020-04-15 22:00:00</td>\n",
              "      <td>ETHUSD</td>\n",
              "      <td>157.18</td>\n",
              "      <td>157.30</td>\n",
              "      <td>155.32</td>\n",
              "      <td>155.81</td>\n",
              "      <td>106.337279</td>\n",
              "    </tr>\n",
              "    <tr>\n",
              "      <th>3</th>\n",
              "      <td>1586984400000</td>\n",
              "      <td>2020-04-15 21:00:00</td>\n",
              "      <td>ETHUSD</td>\n",
              "      <td>158.04</td>\n",
              "      <td>158.31</td>\n",
              "      <td>157.16</td>\n",
              "      <td>157.18</td>\n",
              "      <td>55.244131</td>\n",
              "    </tr>\n",
              "    <tr>\n",
              "      <th>4</th>\n",
              "      <td>1586980800000</td>\n",
              "      <td>2020-04-15 20:00:00</td>\n",
              "      <td>ETHUSD</td>\n",
              "      <td>157.10</td>\n",
              "      <td>158.10</td>\n",
              "      <td>156.87</td>\n",
              "      <td>158.04</td>\n",
              "      <td>144.262622</td>\n",
              "    </tr>\n",
              "    <tr>\n",
              "      <th>...</th>\n",
              "      <td>...</td>\n",
              "      <td>...</td>\n",
              "      <td>...</td>\n",
              "      <td>...</td>\n",
              "      <td>...</td>\n",
              "      <td>...</td>\n",
              "      <td>...</td>\n",
              "      <td>...</td>\n",
              "    </tr>\n",
              "    <tr>\n",
              "      <th>34492</th>\n",
              "      <td>1462813200</td>\n",
              "      <td>2016-05-09 17:00:00</td>\n",
              "      <td>ETHUSD</td>\n",
              "      <td>9.83</td>\n",
              "      <td>9.83</td>\n",
              "      <td>9.48</td>\n",
              "      <td>9.49</td>\n",
              "      <td>329.553213</td>\n",
              "    </tr>\n",
              "    <tr>\n",
              "      <th>34493</th>\n",
              "      <td>1462809600</td>\n",
              "      <td>2016-05-09 16:00:00</td>\n",
              "      <td>ETHUSD</td>\n",
              "      <td>9.99</td>\n",
              "      <td>9.99</td>\n",
              "      <td>9.79</td>\n",
              "      <td>9.83</td>\n",
              "      <td>62.379450</td>\n",
              "    </tr>\n",
              "    <tr>\n",
              "      <th>34494</th>\n",
              "      <td>1462806000</td>\n",
              "      <td>2016-05-09 15:00:00</td>\n",
              "      <td>ETHUSD</td>\n",
              "      <td>10.00</td>\n",
              "      <td>10.00</td>\n",
              "      <td>9.99</td>\n",
              "      <td>9.99</td>\n",
              "      <td>10.973567</td>\n",
              "    </tr>\n",
              "    <tr>\n",
              "      <th>34495</th>\n",
              "      <td>1462802400</td>\n",
              "      <td>2016-05-09 14:00:00</td>\n",
              "      <td>ETHUSD</td>\n",
              "      <td>9.55</td>\n",
              "      <td>10.00</td>\n",
              "      <td>9.55</td>\n",
              "      <td>10.00</td>\n",
              "      <td>235.774075</td>\n",
              "    </tr>\n",
              "    <tr>\n",
              "      <th>34496</th>\n",
              "      <td>1462798800</td>\n",
              "      <td>2016-05-09 13:00:00</td>\n",
              "      <td>ETHUSD</td>\n",
              "      <td>0.00</td>\n",
              "      <td>12.00</td>\n",
              "      <td>0.00</td>\n",
              "      <td>9.55</td>\n",
              "      <td>432.562115</td>\n",
              "    </tr>\n",
              "  </tbody>\n",
              "</table>\n",
              "<p>34497 rows × 8 columns</p>\n",
              "</div>"
            ],
            "text/plain": [
              "       Unix Timestamp                 Date  Symbol  ...     Low   Close       Volume\n",
              "0       1586995200000  2020-04-16 00:00:00  ETHUSD  ...  150.39  150.39   650.188125\n",
              "1       1586991600000  2020-04-15 23:00:00  ETHUSD  ...  151.39  152.94  4277.567299\n",
              "2       1586988000000  2020-04-15 22:00:00  ETHUSD  ...  155.32  155.81   106.337279\n",
              "3       1586984400000  2020-04-15 21:00:00  ETHUSD  ...  157.16  157.18    55.244131\n",
              "4       1586980800000  2020-04-15 20:00:00  ETHUSD  ...  156.87  158.04   144.262622\n",
              "...               ...                  ...     ...  ...     ...     ...          ...\n",
              "34492      1462813200  2016-05-09 17:00:00  ETHUSD  ...    9.48    9.49   329.553213\n",
              "34493      1462809600  2016-05-09 16:00:00  ETHUSD  ...    9.79    9.83    62.379450\n",
              "34494      1462806000  2016-05-09 15:00:00  ETHUSD  ...    9.99    9.99    10.973567\n",
              "34495      1462802400  2016-05-09 14:00:00  ETHUSD  ...    9.55   10.00   235.774075\n",
              "34496      1462798800  2016-05-09 13:00:00  ETHUSD  ...    0.00    9.55   432.562115\n",
              "\n",
              "[34497 rows x 8 columns]"
            ]
          },
          "metadata": {
            "tags": []
          },
          "execution_count": 19
        }
      ]
    },
    {
      "cell_type": "markdown",
      "metadata": {
        "id": "rmYUX59MBoZO"
      },
      "source": [
        "# *Data Preprocessing and Logic Implementation.*"
      ]
    },
    {
      "cell_type": "code",
      "metadata": {
        "colab": {
          "base_uri": "https://localhost:8080/",
          "height": 111
        },
        "id": "DjzoNXKr79qv",
        "outputId": "de18d425-7602-4605-c44d-6c191cb09291"
      },
      "source": [
        "projection = 14 # variable for number of days to predict for future\n",
        "# create a new column named prediction \n",
        "\n",
        "df['Prediction'] = df[['Close']].shift(-projection)\n",
        "df.head(2)"
      ],
      "execution_count": 20,
      "outputs": [
        {
          "output_type": "execute_result",
          "data": {
            "text/html": [
              "<div>\n",
              "<style scoped>\n",
              "    .dataframe tbody tr th:only-of-type {\n",
              "        vertical-align: middle;\n",
              "    }\n",
              "\n",
              "    .dataframe tbody tr th {\n",
              "        vertical-align: top;\n",
              "    }\n",
              "\n",
              "    .dataframe thead th {\n",
              "        text-align: right;\n",
              "    }\n",
              "</style>\n",
              "<table border=\"1\" class=\"dataframe\">\n",
              "  <thead>\n",
              "    <tr style=\"text-align: right;\">\n",
              "      <th></th>\n",
              "      <th>Unix Timestamp</th>\n",
              "      <th>Date</th>\n",
              "      <th>Symbol</th>\n",
              "      <th>Open</th>\n",
              "      <th>High</th>\n",
              "      <th>Low</th>\n",
              "      <th>Close</th>\n",
              "      <th>Volume</th>\n",
              "      <th>Prediction</th>\n",
              "    </tr>\n",
              "  </thead>\n",
              "  <tbody>\n",
              "    <tr>\n",
              "      <th>0</th>\n",
              "      <td>1586995200000</td>\n",
              "      <td>2020-04-16 00:00:00</td>\n",
              "      <td>ETHUSD</td>\n",
              "      <td>152.94</td>\n",
              "      <td>152.94</td>\n",
              "      <td>150.39</td>\n",
              "      <td>150.39</td>\n",
              "      <td>650.188125</td>\n",
              "      <td>157.69</td>\n",
              "    </tr>\n",
              "    <tr>\n",
              "      <th>1</th>\n",
              "      <td>1586991600000</td>\n",
              "      <td>2020-04-15 23:00:00</td>\n",
              "      <td>ETHUSD</td>\n",
              "      <td>155.81</td>\n",
              "      <td>155.81</td>\n",
              "      <td>151.39</td>\n",
              "      <td>152.94</td>\n",
              "      <td>4277.567299</td>\n",
              "      <td>159.05</td>\n",
              "    </tr>\n",
              "  </tbody>\n",
              "</table>\n",
              "</div>"
            ],
            "text/plain": [
              "   Unix Timestamp                 Date  Symbol  ...   Close       Volume  Prediction\n",
              "0   1586995200000  2020-04-16 00:00:00  ETHUSD  ...  150.39   650.188125      157.69\n",
              "1   1586991600000  2020-04-15 23:00:00  ETHUSD  ...  152.94  4277.567299      159.05\n",
              "\n",
              "[2 rows x 9 columns]"
            ]
          },
          "metadata": {
            "tags": []
          },
          "execution_count": 20
        }
      ]
    },
    {
      "cell_type": "code",
      "metadata": {
        "colab": {
          "base_uri": "https://localhost:8080/",
          "height": 204
        },
        "id": "pb5_l_Q79Yl-",
        "outputId": "df90b9d4-9b86-406e-d951-449dce35be2c"
      },
      "source": [
        "df.tail()"
      ],
      "execution_count": 21,
      "outputs": [
        {
          "output_type": "execute_result",
          "data": {
            "text/html": [
              "<div>\n",
              "<style scoped>\n",
              "    .dataframe tbody tr th:only-of-type {\n",
              "        vertical-align: middle;\n",
              "    }\n",
              "\n",
              "    .dataframe tbody tr th {\n",
              "        vertical-align: top;\n",
              "    }\n",
              "\n",
              "    .dataframe thead th {\n",
              "        text-align: right;\n",
              "    }\n",
              "</style>\n",
              "<table border=\"1\" class=\"dataframe\">\n",
              "  <thead>\n",
              "    <tr style=\"text-align: right;\">\n",
              "      <th></th>\n",
              "      <th>Unix Timestamp</th>\n",
              "      <th>Date</th>\n",
              "      <th>Symbol</th>\n",
              "      <th>Open</th>\n",
              "      <th>High</th>\n",
              "      <th>Low</th>\n",
              "      <th>Close</th>\n",
              "      <th>Volume</th>\n",
              "      <th>Prediction</th>\n",
              "    </tr>\n",
              "  </thead>\n",
              "  <tbody>\n",
              "    <tr>\n",
              "      <th>34492</th>\n",
              "      <td>1462813200</td>\n",
              "      <td>2016-05-09 17:00:00</td>\n",
              "      <td>ETHUSD</td>\n",
              "      <td>9.83</td>\n",
              "      <td>9.83</td>\n",
              "      <td>9.48</td>\n",
              "      <td>9.49</td>\n",
              "      <td>329.553213</td>\n",
              "      <td>NaN</td>\n",
              "    </tr>\n",
              "    <tr>\n",
              "      <th>34493</th>\n",
              "      <td>1462809600</td>\n",
              "      <td>2016-05-09 16:00:00</td>\n",
              "      <td>ETHUSD</td>\n",
              "      <td>9.99</td>\n",
              "      <td>9.99</td>\n",
              "      <td>9.79</td>\n",
              "      <td>9.83</td>\n",
              "      <td>62.379450</td>\n",
              "      <td>NaN</td>\n",
              "    </tr>\n",
              "    <tr>\n",
              "      <th>34494</th>\n",
              "      <td>1462806000</td>\n",
              "      <td>2016-05-09 15:00:00</td>\n",
              "      <td>ETHUSD</td>\n",
              "      <td>10.00</td>\n",
              "      <td>10.00</td>\n",
              "      <td>9.99</td>\n",
              "      <td>9.99</td>\n",
              "      <td>10.973567</td>\n",
              "      <td>NaN</td>\n",
              "    </tr>\n",
              "    <tr>\n",
              "      <th>34495</th>\n",
              "      <td>1462802400</td>\n",
              "      <td>2016-05-09 14:00:00</td>\n",
              "      <td>ETHUSD</td>\n",
              "      <td>9.55</td>\n",
              "      <td>10.00</td>\n",
              "      <td>9.55</td>\n",
              "      <td>10.00</td>\n",
              "      <td>235.774075</td>\n",
              "      <td>NaN</td>\n",
              "    </tr>\n",
              "    <tr>\n",
              "      <th>34496</th>\n",
              "      <td>1462798800</td>\n",
              "      <td>2016-05-09 13:00:00</td>\n",
              "      <td>ETHUSD</td>\n",
              "      <td>0.00</td>\n",
              "      <td>12.00</td>\n",
              "      <td>0.00</td>\n",
              "      <td>9.55</td>\n",
              "      <td>432.562115</td>\n",
              "      <td>NaN</td>\n",
              "    </tr>\n",
              "  </tbody>\n",
              "</table>\n",
              "</div>"
            ],
            "text/plain": [
              "       Unix Timestamp                 Date  ...      Volume  Prediction\n",
              "34492      1462813200  2016-05-09 17:00:00  ...  329.553213         NaN\n",
              "34493      1462809600  2016-05-09 16:00:00  ...   62.379450         NaN\n",
              "34494      1462806000  2016-05-09 15:00:00  ...   10.973567         NaN\n",
              "34495      1462802400  2016-05-09 14:00:00  ...  235.774075         NaN\n",
              "34496      1462798800  2016-05-09 13:00:00  ...  432.562115         NaN\n",
              "\n",
              "[5 rows x 9 columns]"
            ]
          },
          "metadata": {
            "tags": []
          },
          "execution_count": 21
        }
      ]
    },
    {
      "cell_type": "code",
      "metadata": {
        "colab": {
          "base_uri": "https://localhost:8080/",
          "height": 357
        },
        "id": "WPyQm6rO9cpy",
        "outputId": "e0ddb385-7524-432b-d3e7-44b83adb1712"
      },
      "source": [
        "sns.heatmap(df.corr(), annot = True, cmap = 'coolwarm')"
      ],
      "execution_count": 22,
      "outputs": [
        {
          "output_type": "execute_result",
          "data": {
            "text/plain": [
              "<matplotlib.axes._subplots.AxesSubplot at 0x7f586dbd0fd0>"
            ]
          },
          "metadata": {
            "tags": []
          },
          "execution_count": 22
        },
        {
          "output_type": "display_data",
          "data": {
            "image/png": "[encoded data removed]",
            "text/plain": [
              "<Figure size 432x288 with 2 Axes>"
            ]
          },
          "metadata": {
            "tags": [],
            "needs_background": "light"
          }
        }
      ]
    },
    {
      "cell_type": "code",
      "metadata": {
        "colab": {
          "base_uri": "https://localhost:8080/"
        },
        "id": "jXli3bkr924Z",
        "outputId": "2952f0d3-b368-42b2-bbb9-844612b70414"
      },
      "source": [
        "#create a independent dataset(x)\n",
        "x = np.array(df[['Close']])\n",
        "x = x[:-projection]\n",
        "print(x)\n",
        "# removing the last 14 row data of close column data "
      ],
      "execution_count": 23,
      "outputs": [
        {
          "output_type": "stream",
          "text": [
            "[[150.39]\n",
            " [152.94]\n",
            " [155.81]\n",
            " ...\n",
            " [  9.36]\n",
            " [  9.36]\n",
            " [  9.36]]\n"
          ],
          "name": "stdout"
        }
      ]
    },
    {
      "cell_type": "code",
      "metadata": {
        "colab": {
          "base_uri": "https://localhost:8080/"
        },
        "id": "WAsw6c8u-qLY",
        "outputId": "a9887651-c550-4a6e-af45-36136b48de1c"
      },
      "source": [
        "y = df['Prediction'].values \n",
        "y = y[:-projection]\n",
        "print(y)\n",
        "# removing the last 14 row data of Prediction data\n"
      ],
      "execution_count": 24,
      "outputs": [
        {
          "output_type": "stream",
          "text": [
            "[157.69 159.05 158.77 ...   9.99  10.     9.55]\n"
          ],
          "name": "stdout"
        }
      ]
    },
    {
      "cell_type": "markdown",
      "metadata": {
        "id": "56TH6DkY_H81"
      },
      "source": [
        "# *Splitting and Visualizing Data*"
      ]
    },
    {
      "cell_type": "code",
      "metadata": {
        "id": "DLj8472VB3Rf"
      },
      "source": [
        "x_train, x_test, y_train, y_test = train_test_split(x,y, test_size = .20)"
      ],
      "execution_count": 25,
      "outputs": []
    },
    {
      "cell_type": "code",
      "metadata": {
        "colab": {
          "base_uri": "https://localhost:8080/",
          "height": 295
        },
        "id": "AG1J091LCP5C",
        "outputId": "8659031f-3158-4f26-aecb-0e16fe6077e4"
      },
      "source": [
        "plt.scatter(x_test, y_test, color = \"red\")\n",
        "plt.title(\"Etherium price vs Predicted Price after 14 days (Training set)\")\n",
        "plt.xlabel(\"Etherium Price\")\n",
        "plt.ylabel(\"Prediction Price\")\n",
        "plt.show()"
      ],
      "execution_count": 26,
      "outputs": [
        {
          "output_type": "display_data",
          "data": {
            "image/png": "[encoded data removed]",
            "text/plain": [
              "<Figure size 432x288 with 1 Axes>"
            ]
          },
          "metadata": {
            "tags": [],
            "needs_background": "light"
          }
        }
      ]
    },
    {
      "cell_type": "markdown",
      "metadata": {
        "id": "KAAun3c5LUWH"
      },
      "source": [
        "# *Model Building & testing*"
      ]
    },
    {
      "cell_type": "markdown",
      "metadata": {
        "id": "7O7a08o_Lazi"
      },
      "source": [
        "# *Linear regression*\n",
        "\n",
        "\n",
        "*   Linear Regression is a machine learning algorithm based on supervised learning. It performs a regression task. Regression models a target prediction value based on independent variables. It is mostly used for finding out the relationship between variables and forecasting. Different regression models differ based on – the kind of relationship between dependent and independent variables, they are considering and the number of independent variables being used.\n",
        "\n"
      ]
    },
    {
      "cell_type": "code",
      "metadata": {
        "colab": {
          "base_uri": "https://localhost:8080/"
        },
        "id": "WMlVu1_mLQYm",
        "outputId": "d656d0ce-983d-42a3-c17c-788d98edd89b"
      },
      "source": [
        "linReg = LinearRegression()\n",
        "#train the model\n",
        "linReg.fit(x_train, y_train)"
      ],
      "execution_count": 27,
      "outputs": [
        {
          "output_type": "execute_result",
          "data": {
            "text/plain": [
              "LinearRegression(copy_X=True, fit_intercept=True, n_jobs=None, normalize=False)"
            ]
          },
          "metadata": {
            "tags": []
          },
          "execution_count": 27
        }
      ]
    },
    {
      "cell_type": "code",
      "metadata": {
        "colab": {
          "base_uri": "https://localhost:8080/"
        },
        "id": "OwBOvRXxMCq6",
        "outputId": "dada460b-f850-4442-fe18-371e29956a0b"
      },
      "source": [
        "#testing the model using score\n",
        "linReg_confidence = linReg.score(x_test, y_test)\n",
        "print(\"Linear regression confidence :\", linReg_confidence)"
      ],
      "execution_count": 28,
      "outputs": [
        {
          "output_type": "stream",
          "text": [
            "Linear regression confidence : 0.9951177219950503\n"
          ],
          "name": "stdout"
        }
      ]
    },
    {
      "cell_type": "code",
      "metadata": {
        "colab": {
          "base_uri": "https://localhost:8080/"
        },
        "id": "9SGG9XORNpLh",
        "outputId": "652dbd4a-c3e0-47ad-9b6b-1ea6929224ca"
      },
      "source": [
        "linReg_prediction = linReg.predict(x_test)\n",
        "print(\"Linear regression Prediction :\", linReg_prediction)"
      ],
      "execution_count": 29,
      "outputs": [
        {
          "output_type": "stream",
          "text": [
            "Linear regression Prediction : [467.02047039 266.24241073 161.97595006 ...  15.86118179 136.69530061\n",
            " 858.9254298 ]\n"
          ],
          "name": "stdout"
        }
      ]
    },
    {
      "cell_type": "code",
      "metadata": {
        "colab": {
          "base_uri": "https://localhost:8080/"
        },
        "id": "HPZ4vSQgOKgh",
        "outputId": "5669ef47-21b8-4d35-ab28-fe04e35820f6"
      },
      "source": [
        "y_test"
      ],
      "execution_count": 30,
      "outputs": [
        {
          "output_type": "execute_result",
          "data": {
            "text/plain": [
              "array([456.45, 272.26, 142.06, ...,  15.94, 135.74, 857.96])"
            ]
          },
          "metadata": {
            "tags": []
          },
          "execution_count": 30
        }
      ]
    },
    {
      "cell_type": "code",
      "metadata": {
        "colab": {
          "base_uri": "https://localhost:8080/",
          "height": 295
        },
        "id": "sEtjzwBYOSeZ",
        "outputId": "21bb431f-f79f-4a73-e25e-5bb2f60cd7e7"
      },
      "source": [
        "plt.scatter(x_test, y_test, color = \"red\")\n",
        "plt.plot(x_train, linReg.predict(x_train), color = \"green\")\n",
        "plt.title(\"Etherium price vs Predicted Price after 14 days (Training set)\")\n",
        "plt.xlabel(\"Etherium Price\")\n",
        "plt.ylabel(\"Predicted Price\")\n",
        "plt.show()"
      ],
      "execution_count": 31,
      "outputs": [
        {
          "output_type": "display_data",
          "data": {
            "image/png": "[encoded data removed]",
            "text/plain": [
              "<Figure size 432x288 with 1 Axes>"
            ]
          },
          "metadata": {
            "tags": [],
            "needs_background": "light"
          }
        }
      ]
    },
    {
      "cell_type": "markdown",
      "metadata": {
        "id": "VZ-TijorTkAp"
      },
      "source": [
        "# Saving Model & Loading Model "
      ]
    },
    {
      "cell_type": "code",
      "metadata": {
        "id": "OxYA7Y_kUGld"
      },
      "source": [
        "import pickle\n",
        "#save the model to disk\n",
        "filename = 'ether_predictor.pkl'\n",
        "pickle.dump(linReg, open(filename, 'wb'))"
      ],
      "execution_count": 32,
      "outputs": []
    },
    {
      "cell_type": "code",
      "metadata": {
        "colab": {
          "base_uri": "https://localhost:8080/"
        },
        "id": "2TxnkJ7LUb44",
        "outputId": "5d53071b-55ab-4f02-85c7-965ba98a1159"
      },
      "source": [
        "#load the model in the disk\n",
        "loaded_model = pickle.load(open(filename, 'rb'))\n",
        "result = loaded_model.score(x_test, y_test)\n",
        "print(result)"
      ],
      "execution_count": 34,
      "outputs": [
        {
          "output_type": "stream",
          "text": [
            "0.9951177219950503\n"
          ],
          "name": "stdout"
        }
      ]
    },
    {
      "cell_type": "code",
      "metadata": {
        "colab": {
          "base_uri": "https://localhost:8080/"
        },
        "id": "gfmZe5RRXwQC",
        "outputId": "8bdf35a6-5ef1-452d-a7ac-d19f09e28141"
      },
      "source": [
        "loaded_model.predict(x_test)"
      ],
      "execution_count": 35,
      "outputs": [
        {
          "output_type": "execute_result",
          "data": {
            "text/plain": [
              "array([467.02047039, 266.24241073, 161.97595006, ...,  15.86118179,\n",
              "       136.69530061, 858.9254298 ])"
            ]
          },
          "metadata": {
            "tags": []
          },
          "execution_count": 35
        }
      ]
    },
    {
      "cell_type": "markdown",
      "metadata": {
        "id": "Wb0tXshwYJ-M"
      },
      "source": [
        "**Thank You!**"
      ]
    }
  ]
}